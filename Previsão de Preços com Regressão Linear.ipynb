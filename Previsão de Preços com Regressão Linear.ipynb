{
 "cells": [
  {
   "cell_type": "markdown",
   "metadata": {},
   "source": [
    "### Previsão de preços\n",
    "#### Período de análise: Janeiro de 2010 até Março de 2021.\n",
    "##### Autor: Saulo Brendo Alves de Jesus \n",
    "##### LinkedIn: linkedin.com/in/saulo-brendo/"
   ]
  },
  {
   "cell_type": "markdown",
   "metadata": {},
   "source": [
    "### Bibliotecas"
   ]
  },
  {
   "cell_type": "code",
   "execution_count": 1,
   "metadata": {},
   "outputs": [],
   "source": [
    "# Bibliotecas utilizadas\n",
    "import pandas as pd\n",
    "from pandas_datareader import data\n",
    "import numpy as np\n",
    "import seaborn as sns\n",
    "import statsmodels.tsa.stattools as ts \n",
    "from sklearn.feature_selection import SelectKBest\n",
    "from sklearn.model_selection import GridSearchCV\n",
    "from sklearn.neural_network import MLPRegressor\n",
    "from sklearn.preprocessing import MinMaxScaler\n",
    "from sklearn import datasets, linear_model\n",
    "from sklearn.metrics import mean_squared_error, r2_score\n",
    "import matplotlib.pyplot as plt\n",
    "%matplotlib inline"
   ]
  },
  {
   "cell_type": "markdown",
   "metadata": {},
   "source": [
    "### Importação de dados"
   ]
  },
  {
   "cell_type": "code",
   "execution_count": 2,
   "metadata": {},
   "outputs": [
    {
     "data": {
      "text/html": [
       "<div>\n",
       "<style scoped>\n",
       "    .dataframe tbody tr th:only-of-type {\n",
       "        vertical-align: middle;\n",
       "    }\n",
       "\n",
       "    .dataframe tbody tr th {\n",
       "        vertical-align: top;\n",
       "    }\n",
       "\n",
       "    .dataframe thead th {\n",
       "        text-align: right;\n",
       "    }\n",
       "</style>\n",
       "<table border=\"1\" class=\"dataframe\">\n",
       "  <thead>\n",
       "    <tr style=\"text-align: right;\">\n",
       "      <th></th>\n",
       "      <th>High</th>\n",
       "      <th>Low</th>\n",
       "      <th>Open</th>\n",
       "      <th>Volume</th>\n",
       "      <th>Adj Close</th>\n",
       "    </tr>\n",
       "    <tr>\n",
       "      <th>Date</th>\n",
       "      <th></th>\n",
       "      <th></th>\n",
       "      <th></th>\n",
       "      <th></th>\n",
       "      <th></th>\n",
       "    </tr>\n",
       "  </thead>\n",
       "  <tbody>\n",
       "    <tr>\n",
       "      <th>2010-01-04</th>\n",
       "      <td>1133.869995</td>\n",
       "      <td>1116.560059</td>\n",
       "      <td>1116.560059</td>\n",
       "      <td>3991400000</td>\n",
       "      <td>1132.989990</td>\n",
       "    </tr>\n",
       "    <tr>\n",
       "      <th>2010-01-05</th>\n",
       "      <td>1136.630005</td>\n",
       "      <td>1129.660034</td>\n",
       "      <td>1132.660034</td>\n",
       "      <td>2491020000</td>\n",
       "      <td>1136.520020</td>\n",
       "    </tr>\n",
       "    <tr>\n",
       "      <th>2010-01-06</th>\n",
       "      <td>1139.189941</td>\n",
       "      <td>1133.949951</td>\n",
       "      <td>1135.709961</td>\n",
       "      <td>4972660000</td>\n",
       "      <td>1137.140015</td>\n",
       "    </tr>\n",
       "    <tr>\n",
       "      <th>2010-01-07</th>\n",
       "      <td>1142.459961</td>\n",
       "      <td>1131.319946</td>\n",
       "      <td>1136.270020</td>\n",
       "      <td>5270680000</td>\n",
       "      <td>1141.689941</td>\n",
       "    </tr>\n",
       "    <tr>\n",
       "      <th>2010-01-08</th>\n",
       "      <td>1145.390015</td>\n",
       "      <td>1136.219971</td>\n",
       "      <td>1140.520020</td>\n",
       "      <td>4389590000</td>\n",
       "      <td>1144.979980</td>\n",
       "    </tr>\n",
       "  </tbody>\n",
       "</table>\n",
       "</div>"
      ],
      "text/plain": [
       "                   High          Low         Open      Volume    Adj Close\n",
       "Date                                                                      \n",
       "2010-01-04  1133.869995  1116.560059  1116.560059  3991400000  1132.989990\n",
       "2010-01-05  1136.630005  1129.660034  1132.660034  2491020000  1136.520020\n",
       "2010-01-06  1139.189941  1133.949951  1135.709961  4972660000  1137.140015\n",
       "2010-01-07  1142.459961  1131.319946  1136.270020  5270680000  1141.689941\n",
       "2010-01-08  1145.390015  1136.219971  1140.520020  4389590000  1144.979980"
      ]
     },
     "execution_count": 2,
     "metadata": {},
     "output_type": "execute_result"
    }
   ],
   "source": [
    "# Definir ativo\n",
    "ticker = \"^GSPC\"\n",
    "\n",
    "# Definindo período\n",
    "init_data = '1/1/2010'\n",
    "end_data = \"31/03/2021\"\n",
    "\n",
    "# Solicitação de dados através da API\n",
    "dados_ativo = data.DataReader(ticker,'yahoo',init_data,end_data)\n",
    "\n",
    "# Remover coluna Close\n",
    "del dados_ativo[\"Close\"]\n",
    "\n",
    "dados_ativo.head()"
   ]
  },
  {
   "cell_type": "markdown",
   "metadata": {},
   "source": [
    "### Tratamento"
   ]
  },
  {
   "cell_type": "code",
   "execution_count": 3,
   "metadata": {},
   "outputs": [
    {
     "data": {
      "text/html": [
       "<div>\n",
       "<style scoped>\n",
       "    .dataframe tbody tr th:only-of-type {\n",
       "        vertical-align: middle;\n",
       "    }\n",
       "\n",
       "    .dataframe tbody tr th {\n",
       "        vertical-align: top;\n",
       "    }\n",
       "\n",
       "    .dataframe thead th {\n",
       "        text-align: right;\n",
       "    }\n",
       "</style>\n",
       "<table border=\"1\" class=\"dataframe\">\n",
       "  <thead>\n",
       "    <tr style=\"text-align: right;\">\n",
       "      <th></th>\n",
       "      <th>High</th>\n",
       "      <th>Low</th>\n",
       "      <th>Open</th>\n",
       "      <th>Volume</th>\n",
       "      <th>Adj Close</th>\n",
       "    </tr>\n",
       "    <tr>\n",
       "      <th>Date</th>\n",
       "      <th></th>\n",
       "      <th></th>\n",
       "      <th></th>\n",
       "      <th></th>\n",
       "      <th></th>\n",
       "    </tr>\n",
       "  </thead>\n",
       "  <tbody>\n",
       "    <tr>\n",
       "      <th>2010-01-08</th>\n",
       "      <td>1145.390015</td>\n",
       "      <td>1136.219971</td>\n",
       "      <td>1140.520020</td>\n",
       "      <td>4389590000</td>\n",
       "      <td>1144.979980</td>\n",
       "    </tr>\n",
       "    <tr>\n",
       "      <th>2010-01-15</th>\n",
       "      <td>1147.770020</td>\n",
       "      <td>1131.390015</td>\n",
       "      <td>1147.719971</td>\n",
       "      <td>4758730000</td>\n",
       "      <td>1136.030029</td>\n",
       "    </tr>\n",
       "    <tr>\n",
       "      <th>2010-01-22</th>\n",
       "      <td>1115.489990</td>\n",
       "      <td>1090.180054</td>\n",
       "      <td>1115.489990</td>\n",
       "      <td>6208650000</td>\n",
       "      <td>1091.760010</td>\n",
       "    </tr>\n",
       "    <tr>\n",
       "      <th>2010-01-29</th>\n",
       "      <td>1096.449951</td>\n",
       "      <td>1071.589966</td>\n",
       "      <td>1087.609985</td>\n",
       "      <td>5412850000</td>\n",
       "      <td>1073.869995</td>\n",
       "    </tr>\n",
       "    <tr>\n",
       "      <th>2010-02-05</th>\n",
       "      <td>1067.130005</td>\n",
       "      <td>1044.500000</td>\n",
       "      <td>1064.119995</td>\n",
       "      <td>6438900000</td>\n",
       "      <td>1066.189941</td>\n",
       "    </tr>\n",
       "  </tbody>\n",
       "</table>\n",
       "</div>"
      ],
      "text/plain": [
       "                   High          Low         Open      Volume    Adj Close\n",
       "Date                                                                      \n",
       "2010-01-08  1145.390015  1136.219971  1140.520020  4389590000  1144.979980\n",
       "2010-01-15  1147.770020  1131.390015  1147.719971  4758730000  1136.030029\n",
       "2010-01-22  1115.489990  1090.180054  1115.489990  6208650000  1091.760010\n",
       "2010-01-29  1096.449951  1071.589966  1087.609985  5412850000  1073.869995\n",
       "2010-02-05  1067.130005  1044.500000  1064.119995  6438900000  1066.189941"
      ]
     },
     "execution_count": 3,
     "metadata": {},
     "output_type": "execute_result"
    }
   ],
   "source": [
    "# Transformar dados diários em semanais\n",
    "dados_ativo = dados_ativo.asfreq('W-FRI', method='pad')\n",
    "dados_ativo.head()"
   ]
  },
  {
   "cell_type": "code",
   "execution_count": 4,
   "metadata": {},
   "outputs": [
    {
     "data": {
      "text/html": [
       "<div>\n",
       "<style scoped>\n",
       "    .dataframe tbody tr th:only-of-type {\n",
       "        vertical-align: middle;\n",
       "    }\n",
       "\n",
       "    .dataframe tbody tr th {\n",
       "        vertical-align: top;\n",
       "    }\n",
       "\n",
       "    .dataframe thead th {\n",
       "        text-align: right;\n",
       "    }\n",
       "</style>\n",
       "<table border=\"1\" class=\"dataframe\">\n",
       "  <thead>\n",
       "    <tr style=\"text-align: right;\">\n",
       "      <th></th>\n",
       "      <th>High</th>\n",
       "      <th>Low</th>\n",
       "      <th>Open</th>\n",
       "      <th>Volume</th>\n",
       "      <th>Adj Close</th>\n",
       "      <th>Date</th>\n",
       "    </tr>\n",
       "    <tr>\n",
       "      <th>Date</th>\n",
       "      <th></th>\n",
       "      <th></th>\n",
       "      <th></th>\n",
       "      <th></th>\n",
       "      <th></th>\n",
       "      <th></th>\n",
       "    </tr>\n",
       "  </thead>\n",
       "  <tbody>\n",
       "    <tr>\n",
       "      <th>2010-01-08</th>\n",
       "      <td>1145.390015</td>\n",
       "      <td>1136.219971</td>\n",
       "      <td>1140.520020</td>\n",
       "      <td>4389590000</td>\n",
       "      <td>1144.979980</td>\n",
       "      <td>2010-01-08</td>\n",
       "    </tr>\n",
       "    <tr>\n",
       "      <th>2010-01-15</th>\n",
       "      <td>1147.770020</td>\n",
       "      <td>1131.390015</td>\n",
       "      <td>1147.719971</td>\n",
       "      <td>4758730000</td>\n",
       "      <td>1136.030029</td>\n",
       "      <td>2010-01-15</td>\n",
       "    </tr>\n",
       "    <tr>\n",
       "      <th>2010-01-22</th>\n",
       "      <td>1115.489990</td>\n",
       "      <td>1090.180054</td>\n",
       "      <td>1115.489990</td>\n",
       "      <td>6208650000</td>\n",
       "      <td>1091.760010</td>\n",
       "      <td>2010-01-22</td>\n",
       "    </tr>\n",
       "    <tr>\n",
       "      <th>2010-01-29</th>\n",
       "      <td>1096.449951</td>\n",
       "      <td>1071.589966</td>\n",
       "      <td>1087.609985</td>\n",
       "      <td>5412850000</td>\n",
       "      <td>1073.869995</td>\n",
       "      <td>2010-01-29</td>\n",
       "    </tr>\n",
       "    <tr>\n",
       "      <th>2010-02-05</th>\n",
       "      <td>1067.130005</td>\n",
       "      <td>1044.500000</td>\n",
       "      <td>1064.119995</td>\n",
       "      <td>6438900000</td>\n",
       "      <td>1066.189941</td>\n",
       "      <td>2010-02-05</td>\n",
       "    </tr>\n",
       "  </tbody>\n",
       "</table>\n",
       "</div>"
      ],
      "text/plain": [
       "                   High          Low         Open      Volume    Adj Close  \\\n",
       "Date                                                                         \n",
       "2010-01-08  1145.390015  1136.219971  1140.520020  4389590000  1144.979980   \n",
       "2010-01-15  1147.770020  1131.390015  1147.719971  4758730000  1136.030029   \n",
       "2010-01-22  1115.489990  1090.180054  1115.489990  6208650000  1091.760010   \n",
       "2010-01-29  1096.449951  1071.589966  1087.609985  5412850000  1073.869995   \n",
       "2010-02-05  1067.130005  1044.500000  1064.119995  6438900000  1066.189941   \n",
       "\n",
       "                 Date  \n",
       "Date                   \n",
       "2010-01-08 2010-01-08  \n",
       "2010-01-15 2010-01-15  \n",
       "2010-01-22 2010-01-22  \n",
       "2010-01-29 2010-01-29  \n",
       "2010-02-05 2010-02-05  "
      ]
     },
     "execution_count": 4,
     "metadata": {},
     "output_type": "execute_result"
    }
   ],
   "source": [
    "# Copiar coluna data \n",
    "dados_ativo[\"Date\"] = dados_ativo.index\n",
    "dados_ativo.head()"
   ]
  },
  {
   "cell_type": "code",
   "execution_count": 5,
   "metadata": {},
   "outputs": [
    {
     "name": "stdout",
     "output_type": "stream",
     "text": [
      "<class 'pandas.core.frame.DataFrame'>\n",
      "DatetimeIndex: 586 entries, 2010-01-08 to 2021-03-26\n",
      "Freq: W-FRI\n",
      "Data columns (total 6 columns):\n",
      "High         586 non-null float64\n",
      "Low          586 non-null float64\n",
      "Open         586 non-null float64\n",
      "Volume       586 non-null int64\n",
      "Adj Close    586 non-null float64\n",
      "Date         586 non-null datetime64[ns]\n",
      "dtypes: datetime64[ns](1), float64(4), int64(1)\n",
      "memory usage: 32.0 KB\n"
     ]
    }
   ],
   "source": [
    "# Verificar informações sobre os ativos\n",
    "dados_ativo.info()"
   ]
  },
  {
   "cell_type": "code",
   "execution_count": 6,
   "metadata": {},
   "outputs": [
    {
     "data": {
      "text/html": [
       "<div>\n",
       "<style scoped>\n",
       "    .dataframe tbody tr th:only-of-type {\n",
       "        vertical-align: middle;\n",
       "    }\n",
       "\n",
       "    .dataframe tbody tr th {\n",
       "        vertical-align: top;\n",
       "    }\n",
       "\n",
       "    .dataframe thead th {\n",
       "        text-align: right;\n",
       "    }\n",
       "</style>\n",
       "<table border=\"1\" class=\"dataframe\">\n",
       "  <thead>\n",
       "    <tr style=\"text-align: right;\">\n",
       "      <th></th>\n",
       "      <th>High</th>\n",
       "      <th>Low</th>\n",
       "      <th>Open</th>\n",
       "      <th>Volume</th>\n",
       "      <th>Adj Close</th>\n",
       "      <th>Date</th>\n",
       "      <th>Fast MA</th>\n",
       "      <th>Slow MA</th>\n",
       "    </tr>\n",
       "    <tr>\n",
       "      <th>Date</th>\n",
       "      <th></th>\n",
       "      <th></th>\n",
       "      <th></th>\n",
       "      <th></th>\n",
       "      <th></th>\n",
       "      <th></th>\n",
       "      <th></th>\n",
       "      <th></th>\n",
       "    </tr>\n",
       "  </thead>\n",
       "  <tbody>\n",
       "    <tr>\n",
       "      <th>2021-02-19</th>\n",
       "      <td>3930.409912</td>\n",
       "      <td>3903.070068</td>\n",
       "      <td>3921.159912</td>\n",
       "      <td>4823940000</td>\n",
       "      <td>3811.149902</td>\n",
       "      <td>2021-02-19</td>\n",
       "      <td>3856.82</td>\n",
       "      <td>3745.94</td>\n",
       "    </tr>\n",
       "    <tr>\n",
       "      <th>2021-02-26</th>\n",
       "      <td>3861.080078</td>\n",
       "      <td>3789.540039</td>\n",
       "      <td>3839.659912</td>\n",
       "      <td>6512950000</td>\n",
       "      <td>3841.939941</td>\n",
       "      <td>2021-02-26</td>\n",
       "      <td>3850.75</td>\n",
       "      <td>3761.01</td>\n",
       "    </tr>\n",
       "    <tr>\n",
       "      <th>2021-03-05</th>\n",
       "      <td>3851.689941</td>\n",
       "      <td>3730.189941</td>\n",
       "      <td>3793.580078</td>\n",
       "      <td>6842570000</td>\n",
       "      <td>3943.340088</td>\n",
       "      <td>2021-03-05</td>\n",
       "      <td>3876.29</td>\n",
       "      <td>3779.97</td>\n",
       "    </tr>\n",
       "    <tr>\n",
       "      <th>2021-03-12</th>\n",
       "      <td>3944.989990</td>\n",
       "      <td>3915.209961</td>\n",
       "      <td>3924.520020</td>\n",
       "      <td>4469240000</td>\n",
       "      <td>3913.100098</td>\n",
       "      <td>2021-03-12</td>\n",
       "      <td>3887.59</td>\n",
       "      <td>3800.30</td>\n",
       "    </tr>\n",
       "    <tr>\n",
       "      <th>2021-03-19</th>\n",
       "      <td>3930.120117</td>\n",
       "      <td>3886.750000</td>\n",
       "      <td>3913.139893</td>\n",
       "      <td>7725050000</td>\n",
       "      <td>3974.540039</td>\n",
       "      <td>2021-03-19</td>\n",
       "      <td>3883.25</td>\n",
       "      <td>3814.57</td>\n",
       "    </tr>\n",
       "  </tbody>\n",
       "</table>\n",
       "</div>"
      ],
      "text/plain": [
       "                   High          Low         Open      Volume    Adj Close  \\\n",
       "Date                                                                         \n",
       "2021-02-19  3930.409912  3903.070068  3921.159912  4823940000  3811.149902   \n",
       "2021-02-26  3861.080078  3789.540039  3839.659912  6512950000  3841.939941   \n",
       "2021-03-05  3851.689941  3730.189941  3793.580078  6842570000  3943.340088   \n",
       "2021-03-12  3944.989990  3915.209961  3924.520020  4469240000  3913.100098   \n",
       "2021-03-19  3930.120117  3886.750000  3913.139893  7725050000  3974.540039   \n",
       "\n",
       "                 Date  Fast MA  Slow MA  \n",
       "Date                                     \n",
       "2021-02-19 2021-02-19  3856.82  3745.94  \n",
       "2021-02-26 2021-02-26  3850.75  3761.01  \n",
       "2021-03-05 2021-03-05  3876.29  3779.97  \n",
       "2021-03-12 2021-03-12  3887.59  3800.30  \n",
       "2021-03-19 2021-03-19  3883.25  3814.57  "
      ]
     },
     "execution_count": 6,
     "metadata": {},
     "output_type": "execute_result"
    }
   ],
   "source": [
    "# Definir valor das Médias Móveis rápida e lenta\n",
    "FastMA = 5\n",
    "SlowMA = 15\n",
    "\n",
    "# Criar coluna com os valores das Médias Móveis\n",
    "dados_ativo['Fast MA'] = np.round(dados_ativo['Adj Close'].rolling(window=FastMA).mean(),2)\n",
    "dados_ativo['Slow MA'] = np.round(dados_ativo['Adj Close'].rolling(window=SlowMA).mean(),2)\n",
    "\n",
    "# Shifitar dados\n",
    "dados_ativo['Adj Close'] = dados_ativo['Adj Close'].shift(-1)\n",
    "dados_ativo.tail()\n",
    "\n",
    "# Remover NA's\n",
    "dados_ativo = dados_ativo.dropna()\n",
    "\n",
    "dados_ativo.tail()"
   ]
  },
  {
   "cell_type": "code",
   "execution_count": 7,
   "metadata": {},
   "outputs": [
    {
     "data": {
      "text/plain": [
       "'Treino = 0:271 Teste = 271:556 Validação = 556:571'"
      ]
     },
     "execution_count": 7,
     "metadata": {},
     "output_type": "execute_result"
    }
   ],
   "source": [
    "# Separar dados\n",
    "linhas_total = len(dados_ativo)\n",
    "linhas_treino = linhas_total - 300\n",
    "linhas_teste = linhas_total - 15\n",
    "linhas_valid = linhas_treino - linhas_teste\n",
    "\n",
    "info = (\n",
    "    f\"Treino = 0:{linhas_treino}\"\n",
    "    f\" Teste = {linhas_treino}:{linhas_teste}\"\n",
    "    f\" Validação = {linhas_teste}:{linhas_total}\"\n",
    ")\n",
    "\n",
    "info"
   ]
  },
  {
   "cell_type": "code",
   "execution_count": 8,
   "metadata": {},
   "outputs": [
    {
     "data": {
      "text/html": [
       "<div>\n",
       "<style scoped>\n",
       "    .dataframe tbody tr th:only-of-type {\n",
       "        vertical-align: middle;\n",
       "    }\n",
       "\n",
       "    .dataframe tbody tr th {\n",
       "        vertical-align: top;\n",
       "    }\n",
       "\n",
       "    .dataframe thead th {\n",
       "        text-align: right;\n",
       "    }\n",
       "</style>\n",
       "<table border=\"1\" class=\"dataframe\">\n",
       "  <thead>\n",
       "    <tr style=\"text-align: right;\">\n",
       "      <th></th>\n",
       "      <th>High</th>\n",
       "      <th>Low</th>\n",
       "      <th>Open</th>\n",
       "      <th>Volume</th>\n",
       "      <th>Adj Close</th>\n",
       "      <th>Date</th>\n",
       "      <th>Fast MA</th>\n",
       "      <th>Slow MA</th>\n",
       "    </tr>\n",
       "  </thead>\n",
       "  <tbody>\n",
       "    <tr>\n",
       "      <th>0</th>\n",
       "      <td>1210.170044</td>\n",
       "      <td>1186.770020</td>\n",
       "      <td>1210.170044</td>\n",
       "      <td>8108470000</td>\n",
       "      <td>1217.280029</td>\n",
       "      <td>2010-04-16</td>\n",
       "      <td>1178.22</td>\n",
       "      <td>1132.12</td>\n",
       "    </tr>\n",
       "    <tr>\n",
       "      <th>1</th>\n",
       "      <td>1217.280029</td>\n",
       "      <td>1205.099976</td>\n",
       "      <td>1207.869995</td>\n",
       "      <td>5326060000</td>\n",
       "      <td>1186.689941</td>\n",
       "      <td>2010-04-23</td>\n",
       "      <td>1189.69</td>\n",
       "      <td>1136.94</td>\n",
       "    </tr>\n",
       "    <tr>\n",
       "      <th>2</th>\n",
       "      <td>1207.989990</td>\n",
       "      <td>1186.319946</td>\n",
       "      <td>1206.770020</td>\n",
       "      <td>6048260000</td>\n",
       "      <td>1110.880005</td>\n",
       "      <td>2010-04-30</td>\n",
       "      <td>1193.71</td>\n",
       "      <td>1140.32</td>\n",
       "    </tr>\n",
       "    <tr>\n",
       "      <th>3</th>\n",
       "      <td>1135.130005</td>\n",
       "      <td>1094.150024</td>\n",
       "      <td>1127.040039</td>\n",
       "      <td>9472910000</td>\n",
       "      <td>1135.680054</td>\n",
       "      <td>2010-05-07</td>\n",
       "      <td>1180.27</td>\n",
       "      <td>1141.59</td>\n",
       "    </tr>\n",
       "    <tr>\n",
       "      <th>4</th>\n",
       "      <td>1157.189941</td>\n",
       "      <td>1126.140015</td>\n",
       "      <td>1157.189941</td>\n",
       "      <td>6126400000</td>\n",
       "      <td>1087.689941</td>\n",
       "      <td>2010-05-14</td>\n",
       "      <td>1168.53</td>\n",
       "      <td>1145.71</td>\n",
       "    </tr>\n",
       "  </tbody>\n",
       "</table>\n",
       "</div>"
      ],
      "text/plain": [
       "          High          Low         Open      Volume    Adj Close       Date  \\\n",
       "0  1210.170044  1186.770020  1210.170044  8108470000  1217.280029 2010-04-16   \n",
       "1  1217.280029  1205.099976  1207.869995  5326060000  1186.689941 2010-04-23   \n",
       "2  1207.989990  1186.319946  1206.770020  6048260000  1110.880005 2010-04-30   \n",
       "3  1135.130005  1094.150024  1127.040039  9472910000  1135.680054 2010-05-07   \n",
       "4  1157.189941  1126.140015  1157.189941  6126400000  1087.689941 2010-05-14   \n",
       "\n",
       "   Fast MA  Slow MA  \n",
       "0  1178.22  1132.12  \n",
       "1  1189.69  1136.94  \n",
       "2  1193.71  1140.32  \n",
       "3  1180.27  1141.59  \n",
       "4  1168.53  1145.71  "
      ]
     },
     "execution_count": 8,
     "metadata": {},
     "output_type": "execute_result"
    }
   ],
   "source": [
    "# Alterar Índice\n",
    "dados_ativo = dados_ativo.reset_index(drop = True)\n",
    "dados_ativo.head()"
   ]
  },
  {
   "cell_type": "markdown",
   "metadata": {},
   "source": [
    "### Modelagem"
   ]
  },
  {
   "cell_type": "code",
   "execution_count": 9,
   "metadata": {},
   "outputs": [],
   "source": [
    "# Features e Labels\n",
    "features = dados_ativo.drop([\"Adj Close\", \"Date\"], 1)\n",
    "labels = dados_ativo[\"Adj Close\"]"
   ]
  },
  {
   "cell_type": "code",
   "execution_count": 10,
   "metadata": {},
   "outputs": [
    {
     "name": "stdout",
     "output_type": "stream",
     "text": [
      "\n",
      "Best Features: \n",
      "{'Open': 4116.3678918807955, 'Low': 1378.823576686178, 'Volume': 972.3406615534943, 'Slow MA': 282.2966490539432, 'Fast MA': 0.8914603774067733}\n"
     ]
    }
   ],
   "source": [
    "# Seleção das melhores Features utilizando Kbest\n",
    "features_list = (\"High\", \"Low\", \"Open\",\"Volume\", \"Fast MA\", \"Slow MA\")\n",
    "\n",
    "# Kbest Model\n",
    "kbest_features = SelectKBest(k = 'all')\n",
    "kbest_features.fit_transform(features, labels)\n",
    "kbest_features_scores = kbest_features.scores_\n",
    "\n",
    "# União e Ordenação\n",
    "raw_pairs = zip(features_list[1:], kbest_features_scores)\n",
    "order_pairs = list(reversed(sorted(raw_pairs, key = lambda x: x[1])))\n",
    "\n",
    "kbest_features_final = dict(order_pairs[:15])\n",
    "best_features = kbest_features_final.keys()\n",
    "print(\"\")\n",
    "print(\"Best Features: \")\n",
    "print(kbest_features_final)"
   ]
  },
  {
   "cell_type": "code",
   "execution_count": 11,
   "metadata": {},
   "outputs": [],
   "source": [
    "# Remoção de Features indesejadas\n",
    "features = dados_ativo.drop([\"Adj Close\", \"Date\", \"Fast MA\"], 1)"
   ]
  },
  {
   "cell_type": "code",
   "execution_count": 12,
   "metadata": {},
   "outputs": [
    {
     "name": "stdout",
     "output_type": "stream",
     "text": [
      "Features:  (571, 5)\n",
      "[[0.06085771 0.05892498 0.06300594 0.83581932 0.01823033]\n",
      " [0.06329929 0.06524723 0.06221196 0.50101677 0.01999444]\n",
      " [0.06010908 0.05876975 0.06183225 0.58791784 0.02123151]\n",
      " ...\n",
      " [0.96796059 0.93618415 0.95479951 0.68349578 0.98733649]\n",
      " [1.         1.         1.         0.39791712 0.99477722]\n",
      " [0.99489366 0.99018378 0.99607158 0.78968306 1.        ]]\n"
     ]
    },
    {
     "name": "stderr",
     "output_type": "stream",
     "text": [
      "/home/lbs/anaconda3/lib/python3.7/site-packages/sklearn/preprocessing/data.py:334: DataConversionWarning: Data with input dtype int64, float64 were all converted to float64 by MinMaxScaler.\n",
      "  return self.partial_fit(X, y)\n"
     ]
    }
   ],
   "source": [
    "# Normalização de entradas\n",
    "\n",
    "# Geração de novo padrão\n",
    "scaler = MinMaxScaler().fit(features)\n",
    "features_scale = scaler.transform(features)\n",
    "\n",
    "print(\"Features: \", features_scale.shape)\n",
    "print(features_scale)"
   ]
  },
  {
   "cell_type": "code",
   "execution_count": 13,
   "metadata": {},
   "outputs": [
    {
     "name": "stdout",
     "output_type": "stream",
     "text": [
      "271 271\n",
      "285 285\n"
     ]
    }
   ],
   "source": [
    "# Separar dados de treino, teste e validação\n",
    "x_treino = features_scale[:linhas_treino]\n",
    "x_teste = features_scale[linhas_treino:linhas_teste]\n",
    "\n",
    "y_treino = labels[:linhas_treino]\n",
    "y_teste = labels[linhas_treino:linhas_teste]\n",
    "\n",
    "print(len(x_treino), len(y_treino))\n",
    "print(len(x_teste), len(y_teste))"
   ]
  },
  {
   "cell_type": "code",
   "execution_count": 14,
   "metadata": {},
   "outputs": [
    {
     "data": {
      "text/plain": [
       "'Coeficiente de Determinação:97.63'"
      ]
     },
     "execution_count": 14,
     "metadata": {},
     "output_type": "execute_result"
    }
   ],
   "source": [
    "# Regressão Linear\n",
    "lr = linear_model.LinearRegression()\n",
    "lr.fit(x_treino, y_treino)\n",
    "predict = lr.predict(x_teste)\n",
    "cd = r2_score(y_teste, predict)\n",
    "\n",
    "f\"Coeficiente de Determinação:{cd * 100:.2f}\""
   ]
  },
  {
   "cell_type": "markdown",
   "metadata": {},
   "source": [
    "### Previsão"
   ]
  },
  {
   "cell_type": "code",
   "execution_count": 15,
   "metadata": {},
   "outputs": [
    {
     "data": {
      "text/html": [
       "<div>\n",
       "<style scoped>\n",
       "    .dataframe tbody tr th:only-of-type {\n",
       "        vertical-align: middle;\n",
       "    }\n",
       "\n",
       "    .dataframe tbody tr th {\n",
       "        vertical-align: top;\n",
       "    }\n",
       "\n",
       "    .dataframe thead th {\n",
       "        text-align: right;\n",
       "    }\n",
       "</style>\n",
       "<table border=\"1\" class=\"dataframe\">\n",
       "  <thead>\n",
       "    <tr style=\"text-align: right;\">\n",
       "      <th></th>\n",
       "      <th>Real Price</th>\n",
       "      <th>Pred Price</th>\n",
       "    </tr>\n",
       "    <tr>\n",
       "      <th>Data</th>\n",
       "      <th></th>\n",
       "      <th></th>\n",
       "    </tr>\n",
       "  </thead>\n",
       "  <tbody>\n",
       "    <tr>\n",
       "      <th>2020-12-11</th>\n",
       "      <td>3709.409912</td>\n",
       "      <td>3636.583227</td>\n",
       "    </tr>\n",
       "    <tr>\n",
       "      <th>2020-12-18</th>\n",
       "      <td>3703.060059</td>\n",
       "      <td>3676.668866</td>\n",
       "    </tr>\n",
       "    <tr>\n",
       "      <th>2020-12-25</th>\n",
       "      <td>3756.070068</td>\n",
       "      <td>3692.265589</td>\n",
       "    </tr>\n",
       "    <tr>\n",
       "      <th>2021-01-01</th>\n",
       "      <td>3824.679932</td>\n",
       "      <td>3743.805676</td>\n",
       "    </tr>\n",
       "    <tr>\n",
       "      <th>2021-01-08</th>\n",
       "      <td>3768.250000</td>\n",
       "      <td>3787.280991</td>\n",
       "    </tr>\n",
       "  </tbody>\n",
       "</table>\n",
       "</div>"
      ],
      "text/plain": [
       "             Real Price   Pred Price\n",
       "Data                                \n",
       "2020-12-11  3709.409912  3636.583227\n",
       "2020-12-18  3703.060059  3676.668866\n",
       "2020-12-25  3756.070068  3692.265589\n",
       "2021-01-01  3824.679932  3743.805676\n",
       "2021-01-08  3768.250000  3787.280991"
      ]
     },
     "execution_count": 15,
     "metadata": {},
     "output_type": "execute_result"
    }
   ],
   "source": [
    "# Previsão com Regressão Linear\n",
    "\n",
    "prevision = features_scale[linhas_teste:linhas_total]\n",
    "\n",
    "data_total = dados_ativo[\"Date\"]\n",
    "data = data_total[linhas_teste:linhas_total]\n",
    "\n",
    "price_real = dados_ativo[\"Adj Close\"]\n",
    "price = price_real[linhas_teste:linhas_total]\n",
    "\n",
    "predict = lr.predict(prevision)\n",
    "\n",
    "# DataFrame com valores de preço real e preço predito\n",
    "df = pd.DataFrame({'Data':data,\n",
    "                   'Real Price':price, 'Pred Price':predict})\n",
    "\n",
    "df.set_index('Data', inplace = True)\n",
    "\n",
    "df.head()"
   ]
  },
  {
   "cell_type": "code",
   "execution_count": 16,
   "metadata": {},
   "outputs": [
    {
     "data": {
      "image/png": "[encoded data removed]",
      "text/plain": [
       "<Figure size 504x360 with 2 Axes>"
      ]
     },
     "metadata": {},
     "output_type": "display_data"
    }
   ],
   "source": [
    "# Correlação\n",
    "corr = df.corr()\n",
    "\n",
    "# Criar mascara para visualizar apenas uma das partes\n",
    "mask = np.zeros_like(corr)\n",
    "mask[np.triu_indices_from(mask)] = True\n",
    "\n",
    "# Plotar gráfico de correlação\n",
    "with sns.axes_style(\"white\"):\n",
    "    f, ax = plt.subplots(figsize=(7, 5))\n",
    "    ax = sns.heatmap(corr, mask=mask, annot=True)"
   ]
  },
  {
   "cell_type": "code",
   "execution_count": 17,
   "metadata": {},
   "outputs": [
    {
     "name": "stderr",
     "output_type": "stream",
     "text": [
      "/home/lbs/anaconda3/lib/python3.7/site-packages/pandas/plotting/_converter.py:129: FutureWarning: Using an implicitly registered datetime converter for a matplotlib plotting method. The converter was registered by pandas on import. Future versions of pandas will require you to explicitly register matplotlib converters.\n",
      "\n",
      "To register the converters:\n",
      "\t>>> from pandas.plotting import register_matplotlib_converters\n",
      "\t>>> register_matplotlib_converters()\n",
      "  warnings.warn(msg, FutureWarning)\n"
     ]
    },
    {
     "data": {
      "image/png": "[encoded data removed]",
      "text/plain": [
       "<Figure size 1080x576 with 1 Axes>"
      ]
     },
     "metadata": {
      "needs_background": "light"
     },
     "output_type": "display_data"
    }
   ],
   "source": [
    "# Plot Gráfico\n",
    "plt.figure(figsize = (15,8))\n",
    "plt.title(\"Preço Real x Preço Reg. Lin\")\n",
    "plt.plot(df['Real Price'], label = 'Real Price',\n",
    "         color = 'blue', marker = 'o')\n",
    "plt.plot(df['Pred Price'], label = 'Pred Price', \n",
    "        color = 'red', marker = 'o')\n",
    "plt.xlabel('Data')\n",
    "plt.ylabel('Fechamento')\n",
    "leg = plt.legend()"
   ]
  }
 ],
 "metadata": {
  "kernelspec": {
   "display_name": "Python 3",
   "language": "python",
   "name": "python3"
  },
  "language_info": {
   "codemirror_mode": {
    "name": "ipython",
    "version": 3
   },
   "file_extension": ".py",
   "mimetype": "text/x-python",
   "name": "python",
   "nbconvert_exporter": "python",
   "pygments_lexer": "ipython3",
   "version": "3.7.3"
  }
 },
 "nbformat": 4,
 "nbformat_minor": 2
}
