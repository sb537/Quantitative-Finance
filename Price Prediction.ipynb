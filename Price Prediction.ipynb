{
 "cells": [
  {
   "cell_type": "markdown",
   "metadata": {},
   "source": [
    "### Previsão de preços\n",
    "#### Período de análise: Janeiro de 2010 até Março de 2021.\n",
    "##### Autor: Saulo Brendo Alves de Jesus \n",
    "##### LinkedIn: linkedin.com/in/saulo-brendo/"
   ]
  },
  {
   "cell_type": "markdown",
   "metadata": {},
   "source": [
    "### Bibliotecas"
   ]
  },
  {
   "cell_type": "code",
   "execution_count": 1,
   "metadata": {},
   "outputs": [],
   "source": [
    "# Bibliotecas utilizadas\n",
    "import pandas as pd\n",
    "from pandas_datareader import data\n",
    "import numpy as np\n",
    "import seaborn as sns\n",
    "import statsmodels.tsa.stattools as ts \n",
    "from sklearn.feature_selection import SelectKBest\n",
    "from sklearn.model_selection import GridSearchCV\n",
    "from sklearn.neural_network import MLPRegressor\n",
    "from sklearn.preprocessing import MinMaxScaler\n",
    "from sklearn import datasets, linear_model\n",
    "from sklearn.metrics import mean_squared_error, r2_score\n",
    "import matplotlib.pyplot as plt\n",
    "%matplotlib inline"
   ]
  },
  {
   "cell_type": "markdown",
   "metadata": {},
   "source": [
    "### Importação de dados"
   ]
  },
  {
   "cell_type": "code",
   "execution_count": 2,
   "metadata": {},
   "outputs": [
    {
     "data": {
      "text/html": [
       "<div>\n",
       "<style scoped>\n",
       "    .dataframe tbody tr th:only-of-type {\n",
       "        vertical-align: middle;\n",
       "    }\n",
       "\n",
       "    .dataframe tbody tr th {\n",
       "        vertical-align: top;\n",
       "    }\n",
       "\n",
       "    .dataframe thead th {\n",
       "        text-align: right;\n",
       "    }\n",
       "</style>\n",
       "<table border=\"1\" class=\"dataframe\">\n",
       "  <thead>\n",
       "    <tr style=\"text-align: right;\">\n",
       "      <th></th>\n",
       "      <th>High</th>\n",
       "      <th>Low</th>\n",
       "      <th>Open</th>\n",
       "      <th>Volume</th>\n",
       "      <th>Adj Close</th>\n",
       "    </tr>\n",
       "    <tr>\n",
       "      <th>Date</th>\n",
       "      <th></th>\n",
       "      <th></th>\n",
       "      <th></th>\n",
       "      <th></th>\n",
       "      <th></th>\n",
       "    </tr>\n",
       "  </thead>\n",
       "  <tbody>\n",
       "    <tr>\n",
       "      <th>2010-01-04</th>\n",
       "      <td>70081.0</td>\n",
       "      <td>68587.0</td>\n",
       "      <td>68587.0</td>\n",
       "      <td>1655400.0</td>\n",
       "      <td>70045.0</td>\n",
       "    </tr>\n",
       "    <tr>\n",
       "      <th>2010-01-05</th>\n",
       "      <td>70595.0</td>\n",
       "      <td>69928.0</td>\n",
       "      <td>70046.0</td>\n",
       "      <td>1984200.0</td>\n",
       "      <td>70240.0</td>\n",
       "    </tr>\n",
       "    <tr>\n",
       "      <th>2010-01-06</th>\n",
       "      <td>70937.0</td>\n",
       "      <td>70016.0</td>\n",
       "      <td>70237.0</td>\n",
       "      <td>2243600.0</td>\n",
       "      <td>70729.0</td>\n",
       "    </tr>\n",
       "    <tr>\n",
       "      <th>2010-01-07</th>\n",
       "      <td>70723.0</td>\n",
       "      <td>70045.0</td>\n",
       "      <td>70723.0</td>\n",
       "      <td>1555000.0</td>\n",
       "      <td>70451.0</td>\n",
       "    </tr>\n",
       "    <tr>\n",
       "      <th>2010-01-08</th>\n",
       "      <td>70766.0</td>\n",
       "      <td>70158.0</td>\n",
       "      <td>70455.0</td>\n",
       "      <td>1634400.0</td>\n",
       "      <td>70263.0</td>\n",
       "    </tr>\n",
       "  </tbody>\n",
       "</table>\n",
       "</div>"
      ],
      "text/plain": [
       "               High      Low     Open     Volume  Adj Close\n",
       "Date                                                       \n",
       "2010-01-04  70081.0  68587.0  68587.0  1655400.0    70045.0\n",
       "2010-01-05  70595.0  69928.0  70046.0  1984200.0    70240.0\n",
       "2010-01-06  70937.0  70016.0  70237.0  2243600.0    70729.0\n",
       "2010-01-07  70723.0  70045.0  70723.0  1555000.0    70451.0\n",
       "2010-01-08  70766.0  70158.0  70455.0  1634400.0    70263.0"
      ]
     },
     "execution_count": 2,
     "metadata": {},
     "output_type": "execute_result"
    }
   ],
   "source": [
    "# Definir ativo\n",
    "ticker = \"^BVSP\"\n",
    "\n",
    "# Definindo período\n",
    "init_data = '1/1/2010'\n",
    "end_data = \"31/03/2021\"\n",
    "\n",
    "# Solicitação de dados através da API\n",
    "dados_ativo = data.DataReader(ticker,'yahoo',init_data,end_data)\n",
    "\n",
    "# Remover coluna Close\n",
    "del dados_ativo[\"Close\"]\n",
    "\n",
    "dados_ativo.head()"
   ]
  },
  {
   "cell_type": "markdown",
   "metadata": {},
   "source": [
    "### Tratamento"
   ]
  },
  {
   "cell_type": "code",
   "execution_count": 3,
   "metadata": {},
   "outputs": [
    {
     "data": {
      "text/html": [
       "<div>\n",
       "<style scoped>\n",
       "    .dataframe tbody tr th:only-of-type {\n",
       "        vertical-align: middle;\n",
       "    }\n",
       "\n",
       "    .dataframe tbody tr th {\n",
       "        vertical-align: top;\n",
       "    }\n",
       "\n",
       "    .dataframe thead th {\n",
       "        text-align: right;\n",
       "    }\n",
       "</style>\n",
       "<table border=\"1\" class=\"dataframe\">\n",
       "  <thead>\n",
       "    <tr style=\"text-align: right;\">\n",
       "      <th></th>\n",
       "      <th>High</th>\n",
       "      <th>Low</th>\n",
       "      <th>Open</th>\n",
       "      <th>Volume</th>\n",
       "      <th>Adj Close</th>\n",
       "    </tr>\n",
       "    <tr>\n",
       "      <th>Date</th>\n",
       "      <th></th>\n",
       "      <th></th>\n",
       "      <th></th>\n",
       "      <th></th>\n",
       "      <th></th>\n",
       "    </tr>\n",
       "  </thead>\n",
       "  <tbody>\n",
       "    <tr>\n",
       "      <th>2010-01-08</th>\n",
       "      <td>70766.0</td>\n",
       "      <td>70158.0</td>\n",
       "      <td>70455.0</td>\n",
       "      <td>1634400.0</td>\n",
       "      <td>70263.0</td>\n",
       "    </tr>\n",
       "    <tr>\n",
       "      <th>2010-01-15</th>\n",
       "      <td>69788.0</td>\n",
       "      <td>68695.0</td>\n",
       "      <td>69780.0</td>\n",
       "      <td>1648400.0</td>\n",
       "      <td>68978.0</td>\n",
       "    </tr>\n",
       "    <tr>\n",
       "      <th>2010-01-22</th>\n",
       "      <td>66660.0</td>\n",
       "      <td>65445.0</td>\n",
       "      <td>66264.0</td>\n",
       "      <td>1305000.0</td>\n",
       "      <td>66220.0</td>\n",
       "    </tr>\n",
       "    <tr>\n",
       "      <th>2010-01-29</th>\n",
       "      <td>66576.0</td>\n",
       "      <td>65140.0</td>\n",
       "      <td>65591.0</td>\n",
       "      <td>1823200.0</td>\n",
       "      <td>65402.0</td>\n",
       "    </tr>\n",
       "    <tr>\n",
       "      <th>2010-02-05</th>\n",
       "      <td>64001.0</td>\n",
       "      <td>61341.0</td>\n",
       "      <td>63934.0</td>\n",
       "      <td>3053000.0</td>\n",
       "      <td>62763.0</td>\n",
       "    </tr>\n",
       "  </tbody>\n",
       "</table>\n",
       "</div>"
      ],
      "text/plain": [
       "               High      Low     Open     Volume  Adj Close\n",
       "Date                                                       \n",
       "2010-01-08  70766.0  70158.0  70455.0  1634400.0    70263.0\n",
       "2010-01-15  69788.0  68695.0  69780.0  1648400.0    68978.0\n",
       "2010-01-22  66660.0  65445.0  66264.0  1305000.0    66220.0\n",
       "2010-01-29  66576.0  65140.0  65591.0  1823200.0    65402.0\n",
       "2010-02-05  64001.0  61341.0  63934.0  3053000.0    62763.0"
      ]
     },
     "execution_count": 3,
     "metadata": {},
     "output_type": "execute_result"
    }
   ],
   "source": [
    "# Transformar dados diários em semanais\n",
    "dados_ativo = dados_ativo.asfreq('W-FRI', method='pad')\n",
    "dados_ativo.head()"
   ]
  },
  {
   "cell_type": "code",
   "execution_count": 4,
   "metadata": {},
   "outputs": [
    {
     "data": {
      "text/html": [
       "<div>\n",
       "<style scoped>\n",
       "    .dataframe tbody tr th:only-of-type {\n",
       "        vertical-align: middle;\n",
       "    }\n",
       "\n",
       "    .dataframe tbody tr th {\n",
       "        vertical-align: top;\n",
       "    }\n",
       "\n",
       "    .dataframe thead th {\n",
       "        text-align: right;\n",
       "    }\n",
       "</style>\n",
       "<table border=\"1\" class=\"dataframe\">\n",
       "  <thead>\n",
       "    <tr style=\"text-align: right;\">\n",
       "      <th></th>\n",
       "      <th>High</th>\n",
       "      <th>Low</th>\n",
       "      <th>Open</th>\n",
       "      <th>Volume</th>\n",
       "      <th>Adj Close</th>\n",
       "      <th>Date</th>\n",
       "    </tr>\n",
       "    <tr>\n",
       "      <th>Date</th>\n",
       "      <th></th>\n",
       "      <th></th>\n",
       "      <th></th>\n",
       "      <th></th>\n",
       "      <th></th>\n",
       "      <th></th>\n",
       "    </tr>\n",
       "  </thead>\n",
       "  <tbody>\n",
       "    <tr>\n",
       "      <th>2010-01-08</th>\n",
       "      <td>70766.0</td>\n",
       "      <td>70158.0</td>\n",
       "      <td>70455.0</td>\n",
       "      <td>1634400.0</td>\n",
       "      <td>70263.0</td>\n",
       "      <td>2010-01-08</td>\n",
       "    </tr>\n",
       "    <tr>\n",
       "      <th>2010-01-15</th>\n",
       "      <td>69788.0</td>\n",
       "      <td>68695.0</td>\n",
       "      <td>69780.0</td>\n",
       "      <td>1648400.0</td>\n",
       "      <td>68978.0</td>\n",
       "      <td>2010-01-15</td>\n",
       "    </tr>\n",
       "    <tr>\n",
       "      <th>2010-01-22</th>\n",
       "      <td>66660.0</td>\n",
       "      <td>65445.0</td>\n",
       "      <td>66264.0</td>\n",
       "      <td>1305000.0</td>\n",
       "      <td>66220.0</td>\n",
       "      <td>2010-01-22</td>\n",
       "    </tr>\n",
       "    <tr>\n",
       "      <th>2010-01-29</th>\n",
       "      <td>66576.0</td>\n",
       "      <td>65140.0</td>\n",
       "      <td>65591.0</td>\n",
       "      <td>1823200.0</td>\n",
       "      <td>65402.0</td>\n",
       "      <td>2010-01-29</td>\n",
       "    </tr>\n",
       "    <tr>\n",
       "      <th>2010-02-05</th>\n",
       "      <td>64001.0</td>\n",
       "      <td>61341.0</td>\n",
       "      <td>63934.0</td>\n",
       "      <td>3053000.0</td>\n",
       "      <td>62763.0</td>\n",
       "      <td>2010-02-05</td>\n",
       "    </tr>\n",
       "  </tbody>\n",
       "</table>\n",
       "</div>"
      ],
      "text/plain": [
       "               High      Low     Open     Volume  Adj Close       Date\n",
       "Date                                                                  \n",
       "2010-01-08  70766.0  70158.0  70455.0  1634400.0    70263.0 2010-01-08\n",
       "2010-01-15  69788.0  68695.0  69780.0  1648400.0    68978.0 2010-01-15\n",
       "2010-01-22  66660.0  65445.0  66264.0  1305000.0    66220.0 2010-01-22\n",
       "2010-01-29  66576.0  65140.0  65591.0  1823200.0    65402.0 2010-01-29\n",
       "2010-02-05  64001.0  61341.0  63934.0  3053000.0    62763.0 2010-02-05"
      ]
     },
     "execution_count": 4,
     "metadata": {},
     "output_type": "execute_result"
    }
   ],
   "source": [
    "# Copiar coluna data \n",
    "dados_ativo[\"Date\"] = dados_ativo.index\n",
    "dados_ativo.head()"
   ]
  },
  {
   "cell_type": "code",
   "execution_count": 5,
   "metadata": {},
   "outputs": [
    {
     "name": "stdout",
     "output_type": "stream",
     "text": [
      "<class 'pandas.core.frame.DataFrame'>\n",
      "DatetimeIndex: 586 entries, 2010-01-08 to 2021-03-26\n",
      "Freq: W-FRI\n",
      "Data columns (total 6 columns):\n",
      "High         586 non-null float64\n",
      "Low          586 non-null float64\n",
      "Open         586 non-null float64\n",
      "Volume       586 non-null float64\n",
      "Adj Close    586 non-null float64\n",
      "Date         586 non-null datetime64[ns]\n",
      "dtypes: datetime64[ns](1), float64(5)\n",
      "memory usage: 32.0 KB\n"
     ]
    }
   ],
   "source": [
    "# Verificar informações sobre os ativos\n",
    "dados_ativo.info()"
   ]
  },
  {
   "cell_type": "code",
   "execution_count": 6,
   "metadata": {},
   "outputs": [
    {
     "data": {
      "text/html": [
       "<div>\n",
       "<style scoped>\n",
       "    .dataframe tbody tr th:only-of-type {\n",
       "        vertical-align: middle;\n",
       "    }\n",
       "\n",
       "    .dataframe tbody tr th {\n",
       "        vertical-align: top;\n",
       "    }\n",
       "\n",
       "    .dataframe thead th {\n",
       "        text-align: right;\n",
       "    }\n",
       "</style>\n",
       "<table border=\"1\" class=\"dataframe\">\n",
       "  <thead>\n",
       "    <tr style=\"text-align: right;\">\n",
       "      <th></th>\n",
       "      <th>High</th>\n",
       "      <th>Low</th>\n",
       "      <th>Open</th>\n",
       "      <th>Volume</th>\n",
       "      <th>Adj Close</th>\n",
       "      <th>Date</th>\n",
       "      <th>Fast MA</th>\n",
       "      <th>Slow MA</th>\n",
       "    </tr>\n",
       "    <tr>\n",
       "      <th>Date</th>\n",
       "      <th></th>\n",
       "      <th></th>\n",
       "      <th></th>\n",
       "      <th></th>\n",
       "      <th></th>\n",
       "      <th></th>\n",
       "      <th></th>\n",
       "      <th></th>\n",
       "    </tr>\n",
       "  </thead>\n",
       "  <tbody>\n",
       "    <tr>\n",
       "      <th>2021-02-19</th>\n",
       "      <td>119250.0</td>\n",
       "      <td>117867.0</td>\n",
       "      <td>119199.0</td>\n",
       "      <td>10402800.0</td>\n",
       "      <td>110035.0</td>\n",
       "      <td>2021-02-19</td>\n",
       "      <td>118193.6</td>\n",
       "      <td>116133.20</td>\n",
       "    </tr>\n",
       "    <tr>\n",
       "      <th>2021-02-26</th>\n",
       "      <td>113466.0</td>\n",
       "      <td>109827.0</td>\n",
       "      <td>112260.0</td>\n",
       "      <td>14618500.0</td>\n",
       "      <td>115202.0</td>\n",
       "      <td>2021-02-26</td>\n",
       "      <td>116766.2</td>\n",
       "      <td>116501.40</td>\n",
       "    </tr>\n",
       "    <tr>\n",
       "      <th>2021-03-05</th>\n",
       "      <td>115504.0</td>\n",
       "      <td>112504.0</td>\n",
       "      <td>112690.0</td>\n",
       "      <td>13254800.0</td>\n",
       "      <td>114160.0</td>\n",
       "      <td>2021-03-05</td>\n",
       "      <td>116605.2</td>\n",
       "      <td>117080.40</td>\n",
       "    </tr>\n",
       "    <tr>\n",
       "      <th>2021-03-12</th>\n",
       "      <td>114984.0</td>\n",
       "      <td>113253.0</td>\n",
       "      <td>114984.0</td>\n",
       "      <td>8110700.0</td>\n",
       "      <td>116222.0</td>\n",
       "      <td>2021-03-12</td>\n",
       "      <td>115452.2</td>\n",
       "      <td>117319.40</td>\n",
       "    </tr>\n",
       "    <tr>\n",
       "      <th>2021-03-19</th>\n",
       "      <td>116446.0</td>\n",
       "      <td>114610.0</td>\n",
       "      <td>114837.0</td>\n",
       "      <td>12341800.0</td>\n",
       "      <td>114781.0</td>\n",
       "      <td>2021-03-19</td>\n",
       "      <td>114873.4</td>\n",
       "      <td>117488.73</td>\n",
       "    </tr>\n",
       "  </tbody>\n",
       "</table>\n",
       "</div>"
      ],
      "text/plain": [
       "                High       Low      Open      Volume  Adj Close       Date  \\\n",
       "Date                                                                         \n",
       "2021-02-19  119250.0  117867.0  119199.0  10402800.0   110035.0 2021-02-19   \n",
       "2021-02-26  113466.0  109827.0  112260.0  14618500.0   115202.0 2021-02-26   \n",
       "2021-03-05  115504.0  112504.0  112690.0  13254800.0   114160.0 2021-03-05   \n",
       "2021-03-12  114984.0  113253.0  114984.0   8110700.0   116222.0 2021-03-12   \n",
       "2021-03-19  116446.0  114610.0  114837.0  12341800.0   114781.0 2021-03-19   \n",
       "\n",
       "             Fast MA    Slow MA  \n",
       "Date                             \n",
       "2021-02-19  118193.6  116133.20  \n",
       "2021-02-26  116766.2  116501.40  \n",
       "2021-03-05  116605.2  117080.40  \n",
       "2021-03-12  115452.2  117319.40  \n",
       "2021-03-19  114873.4  117488.73  "
      ]
     },
     "execution_count": 6,
     "metadata": {},
     "output_type": "execute_result"
    }
   ],
   "source": [
    "# Definir valor das Médias Móveis rápida e lenta\n",
    "FastMA = 5\n",
    "SlowMA = 15\n",
    "\n",
    "# Criar coluna com os valores das Médias Móveis\n",
    "dados_ativo['Fast MA'] = np.round(dados_ativo['Adj Close'].rolling(window=FastMA).mean(),2)\n",
    "dados_ativo['Slow MA'] = np.round(dados_ativo['Adj Close'].rolling(window=SlowMA).mean(),2)\n",
    "\n",
    "# Shifitar dados\n",
    "dados_ativo['Adj Close'] = dados_ativo['Adj Close'].shift(-1)\n",
    "dados_ativo.tail()\n",
    "\n",
    "# Remover NA's\n",
    "dados_ativo = dados_ativo.dropna()\n",
    "\n",
    "dados_ativo.tail()"
   ]
  },
  {
   "cell_type": "code",
   "execution_count": 7,
   "metadata": {},
   "outputs": [
    {
     "data": {
      "text/plain": [
       "'Treino = 0:271 Teste = 271:556 Validação = 556:571'"
      ]
     },
     "execution_count": 7,
     "metadata": {},
     "output_type": "execute_result"
    }
   ],
   "source": [
    "# Separar dados\n",
    "linhas_total = len(dados_ativo)\n",
    "linhas_treino = linhas_total - 300\n",
    "linhas_teste = linhas_total - 15\n",
    "linhas_valid = linhas_treino - linhas_teste\n",
    "\n",
    "info = (\n",
    "    f\"Treino = 0:{linhas_treino}\"\n",
    "    f\" Teste = {linhas_treino}:{linhas_teste}\"\n",
    "    f\" Validação = {linhas_teste}:{linhas_total}\"\n",
    ")\n",
    "\n",
    "info"
   ]
  },
  {
   "cell_type": "code",
   "execution_count": 8,
   "metadata": {},
   "outputs": [
    {
     "data": {
      "text/html": [
       "<div>\n",
       "<style scoped>\n",
       "    .dataframe tbody tr th:only-of-type {\n",
       "        vertical-align: middle;\n",
       "    }\n",
       "\n",
       "    .dataframe tbody tr th {\n",
       "        vertical-align: top;\n",
       "    }\n",
       "\n",
       "    .dataframe thead th {\n",
       "        text-align: right;\n",
       "    }\n",
       "</style>\n",
       "<table border=\"1\" class=\"dataframe\">\n",
       "  <thead>\n",
       "    <tr style=\"text-align: right;\">\n",
       "      <th></th>\n",
       "      <th>High</th>\n",
       "      <th>Low</th>\n",
       "      <th>Open</th>\n",
       "      <th>Volume</th>\n",
       "      <th>Adj Close</th>\n",
       "      <th>Date</th>\n",
       "      <th>Fast MA</th>\n",
       "      <th>Slow MA</th>\n",
       "    </tr>\n",
       "  </thead>\n",
       "  <tbody>\n",
       "    <tr>\n",
       "      <th>0</th>\n",
       "      <td>70522.0</td>\n",
       "      <td>69013.0</td>\n",
       "      <td>70522.0</td>\n",
       "      <td>2043800.0</td>\n",
       "      <td>69509.0</td>\n",
       "      <td>2010-04-16</td>\n",
       "      <td>69897.2</td>\n",
       "      <td>68083.67</td>\n",
       "    </tr>\n",
       "    <tr>\n",
       "      <th>1</th>\n",
       "      <td>69709.0</td>\n",
       "      <td>68832.0</td>\n",
       "      <td>69388.0</td>\n",
       "      <td>1366800.0</td>\n",
       "      <td>67530.0</td>\n",
       "      <td>2010-04-23</td>\n",
       "      <td>70033.2</td>\n",
       "      <td>68033.40</td>\n",
       "    </tr>\n",
       "    <tr>\n",
       "      <th>2</th>\n",
       "      <td>67975.0</td>\n",
       "      <td>67243.0</td>\n",
       "      <td>67975.0</td>\n",
       "      <td>2120200.0</td>\n",
       "      <td>62871.0</td>\n",
       "      <td>2010-04-30</td>\n",
       "      <td>69802.6</td>\n",
       "      <td>67936.87</td>\n",
       "    </tr>\n",
       "    <tr>\n",
       "      <th>3</th>\n",
       "      <td>63945.0</td>\n",
       "      <td>61663.0</td>\n",
       "      <td>63416.0</td>\n",
       "      <td>2903400.0</td>\n",
       "      <td>63412.0</td>\n",
       "      <td>2010-05-07</td>\n",
       "      <td>68149.6</td>\n",
       "      <td>67713.60</td>\n",
       "    </tr>\n",
       "    <tr>\n",
       "      <th>4</th>\n",
       "      <td>64787.0</td>\n",
       "      <td>63050.0</td>\n",
       "      <td>64787.0</td>\n",
       "      <td>2220800.0</td>\n",
       "      <td>60259.0</td>\n",
       "      <td>2010-05-14</td>\n",
       "      <td>66548.6</td>\n",
       "      <td>67580.93</td>\n",
       "    </tr>\n",
       "  </tbody>\n",
       "</table>\n",
       "</div>"
      ],
      "text/plain": [
       "      High      Low     Open     Volume  Adj Close       Date  Fast MA  \\\n",
       "0  70522.0  69013.0  70522.0  2043800.0    69509.0 2010-04-16  69897.2   \n",
       "1  69709.0  68832.0  69388.0  1366800.0    67530.0 2010-04-23  70033.2   \n",
       "2  67975.0  67243.0  67975.0  2120200.0    62871.0 2010-04-30  69802.6   \n",
       "3  63945.0  61663.0  63416.0  2903400.0    63412.0 2010-05-07  68149.6   \n",
       "4  64787.0  63050.0  64787.0  2220800.0    60259.0 2010-05-14  66548.6   \n",
       "\n",
       "    Slow MA  \n",
       "0  68083.67  \n",
       "1  68033.40  \n",
       "2  67936.87  \n",
       "3  67713.60  \n",
       "4  67580.93  "
      ]
     },
     "execution_count": 8,
     "metadata": {},
     "output_type": "execute_result"
    }
   ],
   "source": [
    "# Alterar Índice\n",
    "dados_ativo = dados_ativo.reset_index(drop = True)\n",
    "dados_ativo.head()"
   ]
  },
  {
   "cell_type": "markdown",
   "metadata": {},
   "source": [
    "### Modelagem"
   ]
  },
  {
   "cell_type": "code",
   "execution_count": 9,
   "metadata": {},
   "outputs": [],
   "source": [
    "# Features e Labels\n",
    "features = dados_ativo.drop([\"Adj Close\", \"Date\"], 1)\n",
    "labels = dados_ativo[\"Adj Close\"]"
   ]
  },
  {
   "cell_type": "code",
   "execution_count": 10,
   "metadata": {},
   "outputs": [
    {
     "name": "stdout",
     "output_type": "stream",
     "text": [
      "\n",
      "Best Features: \n",
      "{'Low': 82.86439592581526, 'Volume': 82.27522702823238, 'Open': 82.01373093330949, 'Slow MA': 50.2756468225931, 'Fast MA': 0.1868634483840172}\n"
     ]
    }
   ],
   "source": [
    "# Seleção das melhores Features utilizando Kbest\n",
    "features_list = (\"High\", \"Low\", \"Open\",\"Volume\", \"Fast MA\", \"Slow MA\")\n",
    "\n",
    "# Kbest Model\n",
    "kbest_features = SelectKBest(k = 'all')\n",
    "kbest_features.fit_transform(features, labels)\n",
    "kbest_features_scores = kbest_features.scores_\n",
    "\n",
    "# União e Ordenação\n",
    "raw_pairs = zip(features_list[1:], kbest_features_scores)\n",
    "order_pairs = list(reversed(sorted(raw_pairs, key = lambda x: x[1])))\n",
    "\n",
    "kbest_features_final = dict(order_pairs[:15])\n",
    "best_features = kbest_features_final.keys()\n",
    "print(\"\")\n",
    "print(\"Best Features: \")\n",
    "print(kbest_features_final)"
   ]
  },
  {
   "cell_type": "code",
   "execution_count": 11,
   "metadata": {},
   "outputs": [],
   "source": [
    "# Remoção de Features indesejadas\n",
    "features = dados_ativo.drop([\"Adj Close\", \"Date\", \"Fast MA\"], 1)"
   ]
  },
  {
   "cell_type": "code",
   "execution_count": 12,
   "metadata": {},
   "outputs": [
    {
     "name": "stdout",
     "output_type": "stream",
     "text": [
      "Features:  (571, 5)\n",
      "[[0.36922192 0.36947867 0.38239925 0.12348573 0.34142094]\n",
      " [0.35986418 0.36734043 0.36917245 0.08258161 0.34075083]\n",
      " [0.33990562 0.3485688  0.35269143 0.1281018  0.33946407]\n",
      " ...\n",
      " [0.88697053 0.88325911 0.87424039 0.80085071 0.99455688]\n",
      " [0.88098527 0.89210741 0.90099726 0.49004586 0.9977428 ]\n",
      " [0.89781308 0.90813831 0.89928267 0.74568755 1.        ]]\n"
     ]
    }
   ],
   "source": [
    "# Normalização de entradas\n",
    "\n",
    "# Geração de novo padrão\n",
    "scaler = MinMaxScaler().fit(features)\n",
    "features_scale = scaler.transform(features)\n",
    "\n",
    "print(\"Features: \", features_scale.shape)\n",
    "print(features_scale)"
   ]
  },
  {
   "cell_type": "code",
   "execution_count": 13,
   "metadata": {},
   "outputs": [
    {
     "name": "stdout",
     "output_type": "stream",
     "text": [
      "271 271\n",
      "285 285\n"
     ]
    }
   ],
   "source": [
    "# Separar dados de treino, teste e validação\n",
    "x_treino = features_scale[:linhas_treino]\n",
    "x_teste = features_scale[linhas_treino:linhas_teste]\n",
    "\n",
    "y_treino = labels[:linhas_treino]\n",
    "y_teste = labels[linhas_treino:linhas_teste]\n",
    "\n",
    "print(len(x_treino), len(y_treino))\n",
    "print(len(x_teste), len(y_teste))"
   ]
  },
  {
   "cell_type": "code",
   "execution_count": 14,
   "metadata": {},
   "outputs": [
    {
     "data": {
      "text/plain": [
       "'Coeficiente de Determinação:97.89'"
      ]
     },
     "execution_count": 14,
     "metadata": {},
     "output_type": "execute_result"
    }
   ],
   "source": [
    "# Regressão Linear\n",
    "lr = linear_model.LinearRegression()\n",
    "lr.fit(x_treino, y_treino)\n",
    "predict = lr.predict(x_teste)\n",
    "cd = r2_score(y_teste, predict)\n",
    "\n",
    "f\"Coeficiente de Determinação:{cd * 100:.2f}\""
   ]
  },
  {
   "cell_type": "markdown",
   "metadata": {},
   "source": [
    "### Previsão"
   ]
  },
  {
   "cell_type": "code",
   "execution_count": 15,
   "metadata": {},
   "outputs": [
    {
     "data": {
      "text/html": [
       "<div>\n",
       "<style scoped>\n",
       "    .dataframe tbody tr th:only-of-type {\n",
       "        vertical-align: middle;\n",
       "    }\n",
       "\n",
       "    .dataframe tbody tr th {\n",
       "        vertical-align: top;\n",
       "    }\n",
       "\n",
       "    .dataframe thead th {\n",
       "        text-align: right;\n",
       "    }\n",
       "</style>\n",
       "<table border=\"1\" class=\"dataframe\">\n",
       "  <thead>\n",
       "    <tr style=\"text-align: right;\">\n",
       "      <th></th>\n",
       "      <th>Real Price</th>\n",
       "      <th>Pred Price</th>\n",
       "    </tr>\n",
       "    <tr>\n",
       "      <th>Data</th>\n",
       "      <th></th>\n",
       "      <th></th>\n",
       "    </tr>\n",
       "  </thead>\n",
       "  <tbody>\n",
       "    <tr>\n",
       "      <th>2020-12-11</th>\n",
       "      <td>117679.0</td>\n",
       "      <td>112145.039846</td>\n",
       "    </tr>\n",
       "    <tr>\n",
       "      <th>2020-12-18</th>\n",
       "      <td>117857.0</td>\n",
       "      <td>116057.588083</td>\n",
       "    </tr>\n",
       "    <tr>\n",
       "      <th>2020-12-25</th>\n",
       "      <td>119306.0</td>\n",
       "      <td>115458.781951</td>\n",
       "    </tr>\n",
       "    <tr>\n",
       "      <th>2021-01-01</th>\n",
       "      <td>125077.0</td>\n",
       "      <td>116833.886365</td>\n",
       "    </tr>\n",
       "    <tr>\n",
       "      <th>2021-01-08</th>\n",
       "      <td>120502.0</td>\n",
       "      <td>122221.066485</td>\n",
       "    </tr>\n",
       "  </tbody>\n",
       "</table>\n",
       "</div>"
      ],
      "text/plain": [
       "            Real Price     Pred Price\n",
       "Data                                 \n",
       "2020-12-11    117679.0  112145.039846\n",
       "2020-12-18    117857.0  116057.588083\n",
       "2020-12-25    119306.0  115458.781951\n",
       "2021-01-01    125077.0  116833.886365\n",
       "2021-01-08    120502.0  122221.066485"
      ]
     },
     "execution_count": 15,
     "metadata": {},
     "output_type": "execute_result"
    }
   ],
   "source": [
    "# Previsão com Regressão Linear\n",
    "\n",
    "prevision = features_scale[linhas_teste:linhas_total]\n",
    "\n",
    "data_total = dados_ativo[\"Date\"]\n",
    "data = data_total[linhas_teste:linhas_total]\n",
    "\n",
    "price_real = dados_ativo[\"Adj Close\"]\n",
    "price = price_real[linhas_teste:linhas_total]\n",
    "\n",
    "predict = lr.predict(prevision)\n",
    "\n",
    "# DataFrame com valores de preço real e preço predito\n",
    "df = pd.DataFrame({'Data':data,\n",
    "                   'Real Price':price, 'Pred Price':predict})\n",
    "\n",
    "df.set_index('Data', inplace = True)\n",
    "\n",
    "df.head()"
   ]
  },
  {
   "cell_type": "code",
   "execution_count": 16,
   "metadata": {},
   "outputs": [
    {
     "data": {
      "image/png": "[encoded data removed]",
      "text/plain": [
       "<Figure size 504x360 with 2 Axes>"
      ]
     },
     "metadata": {},
     "output_type": "display_data"
    }
   ],
   "source": [
    "# Correlação\n",
    "corr = df.corr()\n",
    "\n",
    "# Criar mascara para visualizar apenas uma das partes\n",
    "mask = np.zeros_like(corr)\n",
    "mask[np.triu_indices_from(mask)] = True\n",
    "\n",
    "# Plotar gráfico de correlação\n",
    "with sns.axes_style(\"white\"):\n",
    "    f, ax = plt.subplots(figsize=(7, 5))\n",
    "    ax = sns.heatmap(corr, mask=mask, annot=True)"
   ]
  },
  {
   "cell_type": "code",
   "execution_count": 17,
   "metadata": {},
   "outputs": [
    {
     "name": "stderr",
     "output_type": "stream",
     "text": [
      "/home/lbs/anaconda3/lib/python3.7/site-packages/pandas/plotting/_converter.py:129: FutureWarning: Using an implicitly registered datetime converter for a matplotlib plotting method. The converter was registered by pandas on import. Future versions of pandas will require you to explicitly register matplotlib converters.\n",
      "\n",
      "To register the converters:\n",
      "\t>>> from pandas.plotting import register_matplotlib_converters\n",
      "\t>>> register_matplotlib_converters()\n",
      "  warnings.warn(msg, FutureWarning)\n"
     ]
    },
    {
     "data": {
      "image/png": "[encoded data removed]",
      "text/plain": [
       "<Figure size 1080x576 with 1 Axes>"
      ]
     },
     "metadata": {
      "needs_background": "light"
     },
     "output_type": "display_data"
    }
   ],
   "source": [
    "# Plot Gráfico\n",
    "plt.figure(figsize = (15,8))\n",
    "plt.title(\"Preço Real x Preço Reg. Lin\")\n",
    "plt.plot(df['Real Price'], label = 'Real Price',\n",
    "         color = 'blue', marker = 'o')\n",
    "plt.plot(df['Pred Price'], label = 'Pred Price', \n",
    "        color = 'red', marker = 'o')\n",
    "plt.xlabel('Data')\n",
    "plt.ylabel('Fechamento')\n",
    "leg = plt.legend()"
   ]
  }
 ],
 "metadata": {
  "kernelspec": {
   "display_name": "Python 3",
   "language": "python",
   "name": "python3"
  },
  "language_info": {
   "codemirror_mode": {
    "name": "ipython",
    "version": 3
   },
   "file_extension": ".py",
   "mimetype": "text/x-python",
   "name": "python",
   "nbconvert_exporter": "python",
   "pygments_lexer": "ipython3",
   "version": "3.7.3"
  }
 },
 "nbformat": 4,
 "nbformat_minor": 2
}
