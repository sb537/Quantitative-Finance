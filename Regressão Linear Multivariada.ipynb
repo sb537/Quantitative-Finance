{
 "cells": [
  {
   "cell_type": "markdown",
   "metadata": {},
   "source": [
    "### Análise de Regressão Linear Multivariada\n",
    "#### Período de análise: Janeiro de 2015 até Março de 2021.\n",
    "##### Autor: Saulo Brendo Alves de Jesus \n",
    "##### LinkedIn: linkedin.com/in/saulo-brendo/"
   ]
  },
  {
   "cell_type": "markdown",
   "metadata": {},
   "source": [
    "### Importação de Pacotes "
   ]
  },
  {
   "cell_type": "code",
   "execution_count": 1,
   "metadata": {},
   "outputs": [],
   "source": [
    "import pandas as pd     \n",
    "import numpy as np      \n",
    "import matplotlib.pyplot as plt\n",
    "import seaborn as sns\n",
    "from pandas_datareader import data\n",
    "import statsmodels.api as sm"
   ]
  },
  {
   "cell_type": "markdown",
   "metadata": {},
   "source": [
    "### Obtenção de Dados"
   ]
  },
  {
   "cell_type": "code",
   "execution_count": 2,
   "metadata": {},
   "outputs": [
    {
     "data": {
      "text/html": [
       "<div>\n",
       "<style scoped>\n",
       "    .dataframe tbody tr th:only-of-type {\n",
       "        vertical-align: middle;\n",
       "    }\n",
       "\n",
       "    .dataframe tbody tr th {\n",
       "        vertical-align: top;\n",
       "    }\n",
       "\n",
       "    .dataframe thead th {\n",
       "        text-align: right;\n",
       "    }\n",
       "</style>\n",
       "<table border=\"1\" class=\"dataframe\">\n",
       "  <thead>\n",
       "    <tr style=\"text-align: right;\">\n",
       "      <th>Symbols</th>\n",
       "      <th>PETR4.SA</th>\n",
       "      <th>SANB11.SA</th>\n",
       "      <th>VALE3.SA</th>\n",
       "      <th>^BVSP</th>\n",
       "    </tr>\n",
       "    <tr>\n",
       "      <th>Date</th>\n",
       "      <th></th>\n",
       "      <th></th>\n",
       "      <th></th>\n",
       "      <th></th>\n",
       "    </tr>\n",
       "  </thead>\n",
       "  <tbody>\n",
       "    <tr>\n",
       "      <th>2015-01-02</th>\n",
       "      <td>8.683292</td>\n",
       "      <td>8.976747</td>\n",
       "      <td>16.528288</td>\n",
       "      <td>48512.0</td>\n",
       "    </tr>\n",
       "    <tr>\n",
       "      <th>2015-01-05</th>\n",
       "      <td>7.941133</td>\n",
       "      <td>8.913231</td>\n",
       "      <td>16.279737</td>\n",
       "      <td>47517.0</td>\n",
       "    </tr>\n",
       "    <tr>\n",
       "      <th>2015-01-06</th>\n",
       "      <td>7.681376</td>\n",
       "      <td>8.976747</td>\n",
       "      <td>16.932171</td>\n",
       "      <td>48001.0</td>\n",
       "    </tr>\n",
       "    <tr>\n",
       "      <th>2015-01-07</th>\n",
       "      <td>8.043180</td>\n",
       "      <td>9.350778</td>\n",
       "      <td>17.553537</td>\n",
       "      <td>49463.0</td>\n",
       "    </tr>\n",
       "    <tr>\n",
       "      <th>2015-01-08</th>\n",
       "      <td>8.562694</td>\n",
       "      <td>9.195519</td>\n",
       "      <td>17.739946</td>\n",
       "      <td>49943.0</td>\n",
       "    </tr>\n",
       "  </tbody>\n",
       "</table>\n",
       "</div>"
      ],
      "text/plain": [
       "Symbols     PETR4.SA  SANB11.SA   VALE3.SA    ^BVSP\n",
       "Date                                               \n",
       "2015-01-02  8.683292   8.976747  16.528288  48512.0\n",
       "2015-01-05  7.941133   8.913231  16.279737  47517.0\n",
       "2015-01-06  7.681376   8.976747  16.932171  48001.0\n",
       "2015-01-07  8.043180   9.350778  17.553537  49463.0\n",
       "2015-01-08  8.562694   9.195519  17.739946  49943.0"
      ]
     },
     "execution_count": 2,
     "metadata": {},
     "output_type": "execute_result"
    }
   ],
   "source": [
    "# Definir os tickers dos ativos\n",
    "tickers = [\"^BVSP\", \"VALE3.SA\", \"PETR4.SA\", \"SANB11.SA\"]\n",
    "\n",
    "# Definindo período\n",
    "init_data = '1/1/2015'\n",
    "end_data = \"31/03/2021\"\n",
    "\n",
    "# Solicitação de dados através da API\n",
    "tickers_data = data.DataReader(tickers,'yahoo',init_data,end_data)['Adj Close']\n",
    "tickers_data.head()"
   ]
  },
  {
   "cell_type": "markdown",
   "metadata": {},
   "source": [
    "### Calculo de Retornos"
   ]
  },
  {
   "cell_type": "code",
   "execution_count": 3,
   "metadata": {},
   "outputs": [
    {
     "data": {
      "text/html": [
       "<div>\n",
       "<style scoped>\n",
       "    .dataframe tbody tr th:only-of-type {\n",
       "        vertical-align: middle;\n",
       "    }\n",
       "\n",
       "    .dataframe tbody tr th {\n",
       "        vertical-align: top;\n",
       "    }\n",
       "\n",
       "    .dataframe thead th {\n",
       "        text-align: right;\n",
       "    }\n",
       "</style>\n",
       "<table border=\"1\" class=\"dataframe\">\n",
       "  <thead>\n",
       "    <tr style=\"text-align: right;\">\n",
       "      <th>Symbols</th>\n",
       "      <th>PETR4.SA</th>\n",
       "      <th>SANB11.SA</th>\n",
       "      <th>VALE3.SA</th>\n",
       "      <th>^BVSP</th>\n",
       "    </tr>\n",
       "    <tr>\n",
       "      <th>Date</th>\n",
       "      <th></th>\n",
       "      <th></th>\n",
       "      <th></th>\n",
       "      <th></th>\n",
       "    </tr>\n",
       "  </thead>\n",
       "  <tbody>\n",
       "    <tr>\n",
       "      <th>2015-01-05</th>\n",
       "      <td>-0.089345</td>\n",
       "      <td>-0.007101</td>\n",
       "      <td>-0.015152</td>\n",
       "      <td>-0.020724</td>\n",
       "    </tr>\n",
       "    <tr>\n",
       "      <th>2015-01-06</th>\n",
       "      <td>-0.033257</td>\n",
       "      <td>0.007101</td>\n",
       "      <td>0.039294</td>\n",
       "      <td>0.010134</td>\n",
       "    </tr>\n",
       "    <tr>\n",
       "      <th>2015-01-07</th>\n",
       "      <td>0.046026</td>\n",
       "      <td>0.040822</td>\n",
       "      <td>0.036040</td>\n",
       "      <td>0.030003</td>\n",
       "    </tr>\n",
       "    <tr>\n",
       "      <th>2015-01-08</th>\n",
       "      <td>0.062590</td>\n",
       "      <td>-0.016743</td>\n",
       "      <td>0.010563</td>\n",
       "      <td>0.009657</td>\n",
       "    </tr>\n",
       "    <tr>\n",
       "      <th>2015-01-09</th>\n",
       "      <td>0.029885</td>\n",
       "      <td>-0.010027</td>\n",
       "      <td>-0.021687</td>\n",
       "      <td>-0.022333</td>\n",
       "    </tr>\n",
       "  </tbody>\n",
       "</table>\n",
       "</div>"
      ],
      "text/plain": [
       "Symbols     PETR4.SA  SANB11.SA  VALE3.SA     ^BVSP\n",
       "Date                                               \n",
       "2015-01-05 -0.089345  -0.007101 -0.015152 -0.020724\n",
       "2015-01-06 -0.033257   0.007101  0.039294  0.010134\n",
       "2015-01-07  0.046026   0.040822  0.036040  0.030003\n",
       "2015-01-08  0.062590  -0.016743  0.010563  0.009657\n",
       "2015-01-09  0.029885  -0.010027 -0.021687 -0.022333"
      ]
     },
     "execution_count": 3,
     "metadata": {},
     "output_type": "execute_result"
    }
   ],
   "source": [
    "# Obter valor dos retornos logarítimicos diários\n",
    "retornos = np.log(tickers_data).diff().dropna()\n",
    "\n",
    "# Visualização dos 5 primeiros valores\n",
    "retornos.head()"
   ]
  },
  {
   "cell_type": "code",
   "execution_count": 4,
   "metadata": {},
   "outputs": [
    {
     "data": {
      "text/plain": [
       "Text(0.5, 1.0, 'Retornos dos Ativos')"
      ]
     },
     "execution_count": 4,
     "metadata": {},
     "output_type": "execute_result"
    },
    {
     "data": {
      "image/png": "[encoded data removed]",
      "text/plain": [
       "<Figure size 504x360 with 1 Axes>"
      ]
     },
     "metadata": {
      "needs_background": "light"
     },
     "output_type": "display_data"
    }
   ],
   "source": [
    "# Visualização dos Retornos\n",
    "retornos.plot(figsize = (7,5))\n",
    "plt.xlabel('Data')\n",
    "plt.ylabel('Variação')\n",
    "plt.title(\"Retornos dos Ativos\")"
   ]
  },
  {
   "cell_type": "markdown",
   "metadata": {},
   "source": [
    "### Análise Exploratória"
   ]
  },
  {
   "cell_type": "code",
   "execution_count": 13,
   "metadata": {},
   "outputs": [
    {
     "name": "stdout",
     "output_type": "stream",
     "text": [
      "<class 'pandas.core.frame.DataFrame'>\n",
      "DatetimeIndex: 1534 entries, 2015-01-05 to 2021-03-31\n",
      "Data columns (total 4 columns):\n",
      "PETR4.SA     1534 non-null float64\n",
      "SANB11.SA    1534 non-null float64\n",
      "VALE3.SA     1534 non-null float64\n",
      "^BVSP        1534 non-null float64\n",
      "dtypes: float64(4)\n",
      "memory usage: 59.9 KB\n"
     ]
    }
   ],
   "source": [
    "# Informações sobre as variáveis\n",
    "retornos.info()"
   ]
  },
  {
   "cell_type": "code",
   "execution_count": 16,
   "metadata": {},
   "outputs": [
    {
     "data": {
      "text/html": [
       "<div>\n",
       "<style scoped>\n",
       "    .dataframe tbody tr th:only-of-type {\n",
       "        vertical-align: middle;\n",
       "    }\n",
       "\n",
       "    .dataframe tbody tr th {\n",
       "        vertical-align: top;\n",
       "    }\n",
       "\n",
       "    .dataframe thead th {\n",
       "        text-align: right;\n",
       "    }\n",
       "</style>\n",
       "<table border=\"1\" class=\"dataframe\">\n",
       "  <thead>\n",
       "    <tr style=\"text-align: right;\">\n",
       "      <th>Symbols</th>\n",
       "      <th>PETR4.SA</th>\n",
       "      <th>SANB11.SA</th>\n",
       "      <th>VALE3.SA</th>\n",
       "      <th>^BVSP</th>\n",
       "    </tr>\n",
       "  </thead>\n",
       "  <tbody>\n",
       "    <tr>\n",
       "      <th>count</th>\n",
       "      <td>1534.000000</td>\n",
       "      <td>1534.000000</td>\n",
       "      <td>1534.000000</td>\n",
       "      <td>1534.000000</td>\n",
       "    </tr>\n",
       "    <tr>\n",
       "      <th>mean</th>\n",
       "      <td>0.000691</td>\n",
       "      <td>0.000955</td>\n",
       "      <td>0.001124</td>\n",
       "      <td>0.000560</td>\n",
       "    </tr>\n",
       "    <tr>\n",
       "      <th>std</th>\n",
       "      <td>0.034628</td>\n",
       "      <td>0.024393</td>\n",
       "      <td>0.031498</td>\n",
       "      <td>0.017295</td>\n",
       "    </tr>\n",
       "    <tr>\n",
       "      <th>min</th>\n",
       "      <td>-0.352367</td>\n",
       "      <td>-0.144726</td>\n",
       "      <td>-0.281822</td>\n",
       "      <td>-0.159930</td>\n",
       "    </tr>\n",
       "    <tr>\n",
       "      <th>25%</th>\n",
       "      <td>-0.015806</td>\n",
       "      <td>-0.012586</td>\n",
       "      <td>-0.014951</td>\n",
       "      <td>-0.007823</td>\n",
       "    </tr>\n",
       "    <tr>\n",
       "      <th>50%</th>\n",
       "      <td>0.001299</td>\n",
       "      <td>0.000448</td>\n",
       "      <td>0.000529</td>\n",
       "      <td>0.000839</td>\n",
       "    </tr>\n",
       "    <tr>\n",
       "      <th>75%</th>\n",
       "      <td>0.017580</td>\n",
       "      <td>0.015277</td>\n",
       "      <td>0.016669</td>\n",
       "      <td>0.009826</td>\n",
       "    </tr>\n",
       "    <tr>\n",
       "      <th>max</th>\n",
       "      <td>0.200671</td>\n",
       "      <td>0.125841</td>\n",
       "      <td>0.193574</td>\n",
       "      <td>0.130223</td>\n",
       "    </tr>\n",
       "  </tbody>\n",
       "</table>\n",
       "</div>"
      ],
      "text/plain": [
       "Symbols     PETR4.SA    SANB11.SA     VALE3.SA        ^BVSP\n",
       "count    1534.000000  1534.000000  1534.000000  1534.000000\n",
       "mean        0.000691     0.000955     0.001124     0.000560\n",
       "std         0.034628     0.024393     0.031498     0.017295\n",
       "min        -0.352367    -0.144726    -0.281822    -0.159930\n",
       "25%        -0.015806    -0.012586    -0.014951    -0.007823\n",
       "50%         0.001299     0.000448     0.000529     0.000839\n",
       "75%         0.017580     0.015277     0.016669     0.009826\n",
       "max         0.200671     0.125841     0.193574     0.130223"
      ]
     },
     "execution_count": 16,
     "metadata": {},
     "output_type": "execute_result"
    }
   ],
   "source": [
    "# Estatística descritiva dos retornos\n",
    "retornos.describe()"
   ]
  },
  {
   "cell_type": "code",
   "execution_count": 17,
   "metadata": {},
   "outputs": [
    {
     "data": {
      "text/plain": [
       "<matplotlib.axes._subplots.AxesSubplot at 0x7faa31505908>"
      ]
     },
     "execution_count": 17,
     "metadata": {},
     "output_type": "execute_result"
    },
    {
     "data": {
      "image/png": "[encoded data removed]",
      "text/plain": [
       "<Figure size 720x504 with 1 Axes>"
      ]
     },
     "metadata": {
      "needs_background": "light"
     },
     "output_type": "display_data"
    }
   ],
   "source": [
    "# BoxPlot dos Retornos\n",
    "ax = sns.boxplot(data = retornos, orient = \"h\")\n",
    "ax.figure.set_size_inches(10,7)\n",
    "ax.set_title(\"BoxPlot dos Retornos\")\n",
    "ax.set_xlabel(\"Variação\")\n",
    "ax"
   ]
  },
  {
   "cell_type": "code",
   "execution_count": 8,
   "metadata": {},
   "outputs": [
    {
     "data": {
      "image/png": "[encoded data removed]",
      "text/plain": [
       "<Figure size 432x288 with 4 Axes>"
      ]
     },
     "metadata": {
      "needs_background": "light"
     },
     "output_type": "display_data"
    }
   ],
   "source": [
    "# Histograma dos retornos\n",
    "retornos.hist(bins = 100)\n",
    "plt.xlabel('Retornos')\n",
    "plt.ylabel('Frequência')\n",
    "plt.show()"
   ]
  },
  {
   "cell_type": "markdown",
   "metadata": {},
   "source": [
    "### Correlação entre variáveis"
   ]
  },
  {
   "cell_type": "code",
   "execution_count": 9,
   "metadata": {},
   "outputs": [
    {
     "data": {
      "text/html": [
       "<div>\n",
       "<style scoped>\n",
       "    .dataframe tbody tr th:only-of-type {\n",
       "        vertical-align: middle;\n",
       "    }\n",
       "\n",
       "    .dataframe tbody tr th {\n",
       "        vertical-align: top;\n",
       "    }\n",
       "\n",
       "    .dataframe thead th {\n",
       "        text-align: right;\n",
       "    }\n",
       "</style>\n",
       "<table border=\"1\" class=\"dataframe\">\n",
       "  <thead>\n",
       "    <tr style=\"text-align: right;\">\n",
       "      <th>Symbols</th>\n",
       "      <th>PETR4.SA</th>\n",
       "      <th>SANB11.SA</th>\n",
       "      <th>VALE3.SA</th>\n",
       "      <th>^BVSP</th>\n",
       "    </tr>\n",
       "    <tr>\n",
       "      <th>Symbols</th>\n",
       "      <th></th>\n",
       "      <th></th>\n",
       "      <th></th>\n",
       "      <th></th>\n",
       "    </tr>\n",
       "  </thead>\n",
       "  <tbody>\n",
       "    <tr>\n",
       "      <th>PETR4.SA</th>\n",
       "      <td>1.000000</td>\n",
       "      <td>0.560384</td>\n",
       "      <td>0.491207</td>\n",
       "      <td>0.793956</td>\n",
       "    </tr>\n",
       "    <tr>\n",
       "      <th>SANB11.SA</th>\n",
       "      <td>0.560384</td>\n",
       "      <td>1.000000</td>\n",
       "      <td>0.399732</td>\n",
       "      <td>0.769209</td>\n",
       "    </tr>\n",
       "    <tr>\n",
       "      <th>VALE3.SA</th>\n",
       "      <td>0.491207</td>\n",
       "      <td>0.399732</td>\n",
       "      <td>1.000000</td>\n",
       "      <td>0.601105</td>\n",
       "    </tr>\n",
       "    <tr>\n",
       "      <th>^BVSP</th>\n",
       "      <td>0.793956</td>\n",
       "      <td>0.769209</td>\n",
       "      <td>0.601105</td>\n",
       "      <td>1.000000</td>\n",
       "    </tr>\n",
       "  </tbody>\n",
       "</table>\n",
       "</div>"
      ],
      "text/plain": [
       "Symbols    PETR4.SA  SANB11.SA  VALE3.SA     ^BVSP\n",
       "Symbols                                           \n",
       "PETR4.SA   1.000000   0.560384  0.491207  0.793956\n",
       "SANB11.SA  0.560384   1.000000  0.399732  0.769209\n",
       "VALE3.SA   0.491207   0.399732  1.000000  0.601105\n",
       "^BVSP      0.793956   0.769209  0.601105  1.000000"
      ]
     },
     "execution_count": 9,
     "metadata": {},
     "output_type": "execute_result"
    }
   ],
   "source": [
    "# Calcular a correlação entre os ativos\n",
    "corr = retornos.corr()\n",
    "corr"
   ]
  },
  {
   "cell_type": "code",
   "execution_count": 10,
   "metadata": {},
   "outputs": [
    {
     "data": {
      "image/png": "[encoded data removed]",
      "text/plain": [
       "<Figure size 1080x720 with 2 Axes>"
      ]
     },
     "metadata": {},
     "output_type": "display_data"
    }
   ],
   "source": [
    "# Criar mascara para visualizar apenas uma das partes\n",
    "mask = np.zeros_like(corr)\n",
    "mask[np.triu_indices_from(mask)] = True\n",
    "\n",
    "# Plotar gráfico de correlação\n",
    "with sns.axes_style(\"white\"):\n",
    "    f, ax = plt.subplots(figsize=(15, 10))\n",
    "    ax = sns.heatmap(corr, mask=mask, annot=True)"
   ]
  },
  {
   "cell_type": "markdown",
   "metadata": {},
   "source": [
    "### Regressão Linear com OLS\n",
    "\n",
    "##### Problema: Os retornos da Petrobras, Vale e Santander explicam os retornos do Ibovespa?"
   ]
  },
  {
   "cell_type": "code",
   "execution_count": 11,
   "metadata": {},
   "outputs": [
    {
     "name": "stdout",
     "output_type": "stream",
     "text": [
      "                            OLS Regression Results                            \n",
      "==============================================================================\n",
      "Dep. Variable:                  ^BVSP   R-squared:                       0.815\n",
      "Model:                            OLS   Adj. R-squared:                  0.815\n",
      "Method:                 Least Squares   F-statistic:                     2249.\n",
      "Date:                Sun, 11 Apr 2021   Prob (F-statistic):               0.00\n",
      "Time:                        01:59:10   Log-Likelihood:                 5342.8\n",
      "No. Observations:                1534   AIC:                        -1.068e+04\n",
      "Df Residuals:                    1530   BIC:                        -1.066e+04\n",
      "Df Model:                           3                                         \n",
      "Covariance Type:            nonrobust                                         \n",
      "==============================================================================\n",
      "                 coef    std err          t      P>|t|      [0.025      0.975]\n",
      "------------------------------------------------------------------------------\n",
      "const      -1.751e-05      0.000     -0.092      0.927      -0.000       0.000\n",
      "PETR4.SA       0.2240      0.007     31.632      0.000       0.210       0.238\n",
      "VALE3.SA       0.1136      0.007     16.147      0.000       0.100       0.127\n",
      "SANB11.SA      0.3086      0.010     32.304      0.000       0.290       0.327\n",
      "==============================================================================\n",
      "Omnibus:                      333.144   Durbin-Watson:                   2.205\n",
      "Prob(Omnibus):                  0.000   Jarque-Bera (JB):             3119.154\n",
      "Skew:                          -0.735   Prob(JB):                         0.00\n",
      "Kurtosis:                       9.829   Cond. No.                         54.6\n",
      "==============================================================================\n",
      "\n",
      "Warnings:\n",
      "[1] Standard Errors assume that the covariance matrix of the errors is correctly specified.\n"
     ]
    },
    {
     "name": "stderr",
     "output_type": "stream",
     "text": [
      "/home/lbs/anaconda3/lib/python3.7/site-packages/numpy/core/fromnumeric.py:2389: FutureWarning: Method .ptp is deprecated and will be removed in a future version. Use numpy.ptp instead.\n",
      "  return ptp(axis=axis, out=out, **kwargs)\n"
     ]
    }
   ],
   "source": [
    "# Variável dependente\n",
    "y = retornos[\"^BVSP\"]\n",
    "\n",
    "# Variáveis independentes\n",
    "x2 = sm.add_constant(retornos[[\"PETR4.SA\",\"VALE3.SA\",\"SANB11.SA\"]])\n",
    "\n",
    "# Modelagem\n",
    "est = sm.OLS(y, x2)\n",
    "est2 = est.fit()\n",
    "\n",
    "# Resultados\n",
    "print(est2.summary())"
   ]
  },
  {
   "cell_type": "code",
   "execution_count": 12,
   "metadata": {},
   "outputs": [
    {
     "name": "stdout",
     "output_type": "stream",
     "text": [
      "const       -0.000018\n",
      "PETR4.SA     0.223982\n",
      "VALE3.SA     0.113576\n",
      "SANB11.SA    0.308574\n",
      "dtype: float64\n"
     ]
    }
   ],
   "source": [
    "print(est2.params)"
   ]
  }
 ],
 "metadata": {
  "kernelspec": {
   "display_name": "Python 3",
   "language": "python",
   "name": "python3"
  },
  "language_info": {
   "codemirror_mode": {
    "name": "ipython",
    "version": 3
   },
   "file_extension": ".py",
   "mimetype": "text/x-python",
   "name": "python",
   "nbconvert_exporter": "python",
   "pygments_lexer": "ipython3",
   "version": "3.7.3"
  }
 },
 "nbformat": 4,
 "nbformat_minor": 2
}
